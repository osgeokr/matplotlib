{
 "cells": [
  {
   "cell_type": "code",
   "execution_count": 1,
   "metadata": {},
   "outputs": [],
   "source": [
    "# 라이브러리 추가\n",
    "import pandas as pd\n",
    "import seaborn as sns\n",
    "import matplotlib.pyplot as plt"
   ]
  },
  {
   "cell_type": "code",
   "execution_count": 2,
   "metadata": {},
   "outputs": [],
   "source": [
    "# 꼬꼬마 형태소 분석기\n",
    "from konlpy.tag import Kkma\n",
    "kkma = Kkma()"
   ]
  },
  {
   "cell_type": "code",
   "execution_count": 3,
   "metadata": {},
   "outputs": [],
   "source": [
    "# '깃대종'이 언급된 카카오 블로그, 카페 글\n",
    "df = pd.read_excel('D:/GEODATA/kakao_blog_cafe.xlsx', sheet_name='Sheet1').drop(['Unnamed: 0'], axis=1)\n",
    "df[['title']].to_csv('D:/GEODATA/kakao_blog_cafe.txt', index=False, header=False)\n",
    "f = open(\"D:/GEODATA/kakao_blog_cafe.txt\", 'r', encoding='UTF-8')\n",
    "lines = f.readlines()\n",
    "f.close()"
   ]
  },
  {
   "cell_type": "code",
   "execution_count": 4,
   "metadata": {},
   "outputs": [
    {
     "data": {
      "text/plain": [
       "[['국립공원', '깃대', '깃대종뱃지', '21종', '모두', '획득'],\n",
       " ['호반새', '육추', '계룡', '계룡산', '깃대', '깃대종'],\n",
       " ['국립공원', '깃대', '깃대종', '식물'],\n",
       " ['깃대', '깃대종', '국립', '국립공원', '공원', '그린', '그린포인트', '포인트'],\n",
       " ['국립공원', '깃대', '깃대종뱃지', '18종'],\n",
       " ['한라산', '한라산국립공원', '국립공원', '대표', '생물', '깃대', '깃대종', '선정'],\n",
       " ['생태계', '보고', '깃대', '깃대종', '서식지'],\n",
       " ['내장산', '깃대', '깃대종', '진노랑', '진노랑상사화', '상사화'],\n",
       " ['깃대', '깃대종'],\n",
       " ['카카오', '검색', '이용', '깃대', '깃대종', '로그', '카페', '가시화']]"
      ]
     },
     "execution_count": 4,
     "metadata": {},
     "output_type": "execute_result"
    }
   ],
   "source": [
    "# 단어 2차원 리스트\n",
    "dataset = []\n",
    "for i in range(len(lines)):\n",
    "    dataset.append(kkma.nouns(lines[i]))\n",
    "dataset = [[y for y in x if not len(y)==1] for x in dataset]   # 2자 이상 \n",
    "dataset = [[y for y in x if not y.isdigit()] for x in dataset] # 숫자판별\n",
    "dataset[:10]"
   ]
  },
  {
   "cell_type": "code",
   "execution_count": 5,
   "metadata": {},
   "outputs": [],
   "source": [
    "# Word2Vec 불러오기\n",
    "from gensim.models.word2vec import Word2Vec"
   ]
  },
  {
   "cell_type": "code",
   "execution_count": 6,
   "metadata": {},
   "outputs": [
    {
     "name": "stderr",
     "output_type": "stream",
     "text": [
      "c:\\users\\bhyu\\appdata\\local\\programs\\python\\python35\\lib\\site-packages\\gensim\\models\\base_any2vec.py:743: UserWarning: C extension not loaded, training will be slow. Install a C compiler and reinstall gensim for fast training.\n",
      "  \"C extension not loaded, training will be slow. \"\n"
     ]
    }
   ],
   "source": [
    "# 모형 구축\n",
    "model = Word2Vec(dataset,\n",
    "                 sg=1,           # Skip-gram 적용: 중심 단어로 주변 단어를 예측\n",
    "                 window=5,       # 중심 단어로부터 좌우 5개 단어까지 학습에 적용\n",
    "                 min_count=1     # 전체문서에서 최소 1회 이상 출현단어로 학습 진행\n",
    "                )\n",
    "model.init_sims(replace=True)"
   ]
  },
  {
   "cell_type": "code",
   "execution_count": 7,
   "metadata": {},
   "outputs": [
    {
     "name": "stdout",
     "output_type": "stream",
     "text": [
      "깃대종과 국립공원 단어간 유사도는 0.99 입니다.\n"
     ]
    }
   ],
   "source": [
    "# 단어간 유사도\n",
    "print(\"깃대종과 국립공원 단어간 유사도는 %.2f 입니다.\" % (model.wv.similarity('깃대종', '국립공원')))"
   ]
  },
  {
   "cell_type": "code",
   "execution_count": 8,
   "metadata": {},
   "outputs": [
    {
     "data": {
      "text/plain": [
       "[('국립공원', 0.9901725649833679),\n",
       " ('산행', 0.9895421266555786),\n",
       " ('여행', 0.9888993501663208),\n",
       " ('대전', 0.988831102848053),\n",
       " ('정기', 0.9883984923362732),\n",
       " ('나무', 0.9879107475280762),\n",
       " ('깃대', 0.9878422617912292),\n",
       " ('안내', 0.987459123134613),\n",
       " ('둘레', 0.9871837496757507),\n",
       " ('공원', 0.986480176448822)]"
      ]
     },
     "execution_count": 8,
     "metadata": {},
     "output_type": "execute_result"
    }
   ],
   "source": [
    "# 가장 유사한 단어 10개\n",
    "model.wv.most_similar(\"깃대종\", topn=10)"
   ]
  },
  {
   "cell_type": "code",
   "execution_count": 9,
   "metadata": {},
   "outputs": [
    {
     "data": {
      "text/html": [
       "<div>\n",
       "<style scoped>\n",
       "    .dataframe tbody tr th:only-of-type {\n",
       "        vertical-align: middle;\n",
       "    }\n",
       "\n",
       "    .dataframe tbody tr th {\n",
       "        vertical-align: top;\n",
       "    }\n",
       "\n",
       "    .dataframe thead th {\n",
       "        text-align: right;\n",
       "    }\n",
       "</style>\n",
       "<table border=\"1\" class=\"dataframe\">\n",
       "  <thead>\n",
       "    <tr style=\"text-align: right;\">\n",
       "      <th></th>\n",
       "      <th>단어</th>\n",
       "      <th>지리산</th>\n",
       "      <th>오대산</th>\n",
       "      <th>북한산</th>\n",
       "      <th>주왕산</th>\n",
       "      <th>가야산</th>\n",
       "    </tr>\n",
       "  </thead>\n",
       "  <tbody>\n",
       "    <tr>\n",
       "      <th>0</th>\n",
       "      <td>산행</td>\n",
       "      <td>0.994039</td>\n",
       "      <td>0.990028</td>\n",
       "      <td>0.990548</td>\n",
       "      <td>0.983770</td>\n",
       "      <td>0.992372</td>\n",
       "    </tr>\n",
       "    <tr>\n",
       "      <th>1</th>\n",
       "      <td>여행</td>\n",
       "      <td>0.993244</td>\n",
       "      <td>0.988987</td>\n",
       "      <td>0.990528</td>\n",
       "      <td>0.982585</td>\n",
       "      <td>0.991148</td>\n",
       "    </tr>\n",
       "    <tr>\n",
       "      <th>2</th>\n",
       "      <td>안내</td>\n",
       "      <td>0.992401</td>\n",
       "      <td>0.987263</td>\n",
       "      <td>0.990001</td>\n",
       "      <td>0.979603</td>\n",
       "      <td>0.991050</td>\n",
       "    </tr>\n",
       "    <tr>\n",
       "      <th>3</th>\n",
       "      <td>국립공원</td>\n",
       "      <td>0.992336</td>\n",
       "      <td>0.990038</td>\n",
       "      <td>0.990761</td>\n",
       "      <td>0.984538</td>\n",
       "      <td>0.992226</td>\n",
       "    </tr>\n",
       "    <tr>\n",
       "      <th>4</th>\n",
       "      <td>계곡</td>\n",
       "      <td>0.991840</td>\n",
       "      <td>0.989593</td>\n",
       "      <td>0.986711</td>\n",
       "      <td>0.981326</td>\n",
       "      <td>0.990171</td>\n",
       "    </tr>\n",
       "    <tr>\n",
       "      <th>5</th>\n",
       "      <td>생태</td>\n",
       "      <td>0.991521</td>\n",
       "      <td>0.990199</td>\n",
       "      <td>0.990055</td>\n",
       "      <td>0.984265</td>\n",
       "      <td>0.990027</td>\n",
       "    </tr>\n",
       "    <tr>\n",
       "      <th>6</th>\n",
       "      <td>정기</td>\n",
       "      <td>0.991370</td>\n",
       "      <td>0.987801</td>\n",
       "      <td>0.986248</td>\n",
       "      <td>0.982758</td>\n",
       "      <td>0.991737</td>\n",
       "    </tr>\n",
       "    <tr>\n",
       "      <th>7</th>\n",
       "      <td>공원</td>\n",
       "      <td>0.991191</td>\n",
       "      <td>0.990399</td>\n",
       "      <td>0.987401</td>\n",
       "      <td>0.981412</td>\n",
       "      <td>0.989764</td>\n",
       "    </tr>\n",
       "    <tr>\n",
       "      <th>8</th>\n",
       "      <td>둘레</td>\n",
       "      <td>0.990533</td>\n",
       "      <td>0.987164</td>\n",
       "      <td>0.989797</td>\n",
       "      <td>0.979150</td>\n",
       "      <td>0.990851</td>\n",
       "    </tr>\n",
       "    <tr>\n",
       "      <th>9</th>\n",
       "      <td>선재길</td>\n",
       "      <td>0.990493</td>\n",
       "      <td>0.978885</td>\n",
       "      <td>0.980834</td>\n",
       "      <td>0.969496</td>\n",
       "      <td>0.979299</td>\n",
       "    </tr>\n",
       "  </tbody>\n",
       "</table>\n",
       "</div>"
      ],
      "text/plain": [
       "     단어       지리산       오대산       북한산       주왕산       가야산\n",
       "0    산행  0.994039  0.990028  0.990548  0.983770  0.992372\n",
       "1    여행  0.993244  0.988987  0.990528  0.982585  0.991148\n",
       "2    안내  0.992401  0.987263  0.990001  0.979603  0.991050\n",
       "3  국립공원  0.992336  0.990038  0.990761  0.984538  0.992226\n",
       "4    계곡  0.991840  0.989593  0.986711  0.981326  0.990171\n",
       "5    생태  0.991521  0.990199  0.990055  0.984265  0.990027\n",
       "6    정기  0.991370  0.987801  0.986248  0.982758  0.991737\n",
       "7    공원  0.991191  0.990399  0.987401  0.981412  0.989764\n",
       "8    둘레  0.990533  0.987164  0.989797  0.979150  0.990851\n",
       "9   선재길  0.990493  0.978885  0.980834  0.969496  0.979299"
      ]
     },
     "execution_count": 9,
     "metadata": {},
     "output_type": "execute_result"
    }
   ],
   "source": [
    "# 가장 유사한 단어 10개: 오대산, 주왕산, 북한산, 무등산, 지리산\n",
    "df1 = pd.DataFrame(model.wv.most_similar(\"오대산\", topn=100), columns=['단어', '유사도'])\n",
    "df2 = pd.DataFrame(model.wv.most_similar(\"주왕산\", topn=100), columns=['단어', '유사도'])\n",
    "df3 = pd.DataFrame(model.wv.most_similar(\"북한산\", topn=100), columns=['단어', '유사도'])\n",
    "df4 = pd.DataFrame(model.wv.most_similar(\"무등산\", topn=100), columns=['단어', '유사도'])\n",
    "df5 = pd.DataFrame(model.wv.most_similar(\"지리산\", topn=100), columns=['단어', '유사도'])\n",
    "df2 = df1.merge(df2, how='inner', on='단어')\n",
    "df3 = df2.merge(df3, how='inner', on='단어')\n",
    "df4 = df3.merge(df4, how='inner', on='단어')\n",
    "df5 = df4.merge(df5, how='inner', on='단어')\n",
    "df5.columns = ['단어', '지리산', '오대산', '북한산', '주왕산', '가야산']\n",
    "df5.head(10)"
   ]
  },
  {
   "cell_type": "code",
   "execution_count": 10,
   "metadata": {},
   "outputs": [
    {
     "data": {
      "text/html": [
       "<div>\n",
       "<style scoped>\n",
       "    .dataframe tbody tr th:only-of-type {\n",
       "        vertical-align: middle;\n",
       "    }\n",
       "\n",
       "    .dataframe tbody tr th {\n",
       "        vertical-align: top;\n",
       "    }\n",
       "\n",
       "    .dataframe thead th {\n",
       "        text-align: right;\n",
       "    }\n",
       "</style>\n",
       "<table border=\"1\" class=\"dataframe\">\n",
       "  <thead>\n",
       "    <tr style=\"text-align: right;\">\n",
       "      <th></th>\n",
       "      <th>단어</th>\n",
       "      <th>지리산</th>\n",
       "      <th>오대산</th>\n",
       "      <th>북한산</th>\n",
       "      <th>주왕산</th>\n",
       "      <th>가야산</th>\n",
       "      <th>전체</th>\n",
       "    </tr>\n",
       "  </thead>\n",
       "  <tbody>\n",
       "    <tr>\n",
       "      <th>0</th>\n",
       "      <td>산행</td>\n",
       "      <td>0.994039</td>\n",
       "      <td>0.990028</td>\n",
       "      <td>0.990548</td>\n",
       "      <td>0.983770</td>\n",
       "      <td>0.992372</td>\n",
       "      <td>0.990152</td>\n",
       "    </tr>\n",
       "    <tr>\n",
       "      <th>1</th>\n",
       "      <td>여행</td>\n",
       "      <td>0.993244</td>\n",
       "      <td>0.988987</td>\n",
       "      <td>0.990528</td>\n",
       "      <td>0.982585</td>\n",
       "      <td>0.991148</td>\n",
       "      <td>0.989298</td>\n",
       "    </tr>\n",
       "    <tr>\n",
       "      <th>2</th>\n",
       "      <td>안내</td>\n",
       "      <td>0.992401</td>\n",
       "      <td>0.987263</td>\n",
       "      <td>0.990001</td>\n",
       "      <td>0.979603</td>\n",
       "      <td>0.991050</td>\n",
       "      <td>0.988064</td>\n",
       "    </tr>\n",
       "    <tr>\n",
       "      <th>3</th>\n",
       "      <td>국립공원</td>\n",
       "      <td>0.992336</td>\n",
       "      <td>0.990038</td>\n",
       "      <td>0.990761</td>\n",
       "      <td>0.984538</td>\n",
       "      <td>0.992226</td>\n",
       "      <td>0.989980</td>\n",
       "    </tr>\n",
       "    <tr>\n",
       "      <th>4</th>\n",
       "      <td>계곡</td>\n",
       "      <td>0.991840</td>\n",
       "      <td>0.989593</td>\n",
       "      <td>0.986711</td>\n",
       "      <td>0.981326</td>\n",
       "      <td>0.990171</td>\n",
       "      <td>0.987928</td>\n",
       "    </tr>\n",
       "    <tr>\n",
       "      <th>5</th>\n",
       "      <td>생태</td>\n",
       "      <td>0.991521</td>\n",
       "      <td>0.990199</td>\n",
       "      <td>0.990055</td>\n",
       "      <td>0.984265</td>\n",
       "      <td>0.990027</td>\n",
       "      <td>0.989213</td>\n",
       "    </tr>\n",
       "    <tr>\n",
       "      <th>6</th>\n",
       "      <td>정기</td>\n",
       "      <td>0.991370</td>\n",
       "      <td>0.987801</td>\n",
       "      <td>0.986248</td>\n",
       "      <td>0.982758</td>\n",
       "      <td>0.991737</td>\n",
       "      <td>0.987983</td>\n",
       "    </tr>\n",
       "    <tr>\n",
       "      <th>7</th>\n",
       "      <td>공원</td>\n",
       "      <td>0.991191</td>\n",
       "      <td>0.990399</td>\n",
       "      <td>0.987401</td>\n",
       "      <td>0.981412</td>\n",
       "      <td>0.989764</td>\n",
       "      <td>0.988033</td>\n",
       "    </tr>\n",
       "    <tr>\n",
       "      <th>8</th>\n",
       "      <td>둘레</td>\n",
       "      <td>0.990533</td>\n",
       "      <td>0.987164</td>\n",
       "      <td>0.989797</td>\n",
       "      <td>0.979150</td>\n",
       "      <td>0.990851</td>\n",
       "      <td>0.987499</td>\n",
       "    </tr>\n",
       "    <tr>\n",
       "      <th>9</th>\n",
       "      <td>선재길</td>\n",
       "      <td>0.990493</td>\n",
       "      <td>0.978885</td>\n",
       "      <td>0.980834</td>\n",
       "      <td>0.969496</td>\n",
       "      <td>0.979299</td>\n",
       "      <td>0.979801</td>\n",
       "    </tr>\n",
       "  </tbody>\n",
       "</table>\n",
       "</div>"
      ],
      "text/plain": [
       "     단어       지리산       오대산       북한산       주왕산       가야산        전체\n",
       "0    산행  0.994039  0.990028  0.990548  0.983770  0.992372  0.990152\n",
       "1    여행  0.993244  0.988987  0.990528  0.982585  0.991148  0.989298\n",
       "2    안내  0.992401  0.987263  0.990001  0.979603  0.991050  0.988064\n",
       "3  국립공원  0.992336  0.990038  0.990761  0.984538  0.992226  0.989980\n",
       "4    계곡  0.991840  0.989593  0.986711  0.981326  0.990171  0.987928\n",
       "5    생태  0.991521  0.990199  0.990055  0.984265  0.990027  0.989213\n",
       "6    정기  0.991370  0.987801  0.986248  0.982758  0.991737  0.987983\n",
       "7    공원  0.991191  0.990399  0.987401  0.981412  0.989764  0.988033\n",
       "8    둘레  0.990533  0.987164  0.989797  0.979150  0.990851  0.987499\n",
       "9   선재길  0.990493  0.978885  0.980834  0.969496  0.979299  0.979801"
      ]
     },
     "execution_count": 10,
     "metadata": {},
     "output_type": "execute_result"
    }
   ],
   "source": [
    "# 단어 평균 컬럼 추가\n",
    "df5['전체'] = df5.mean(numeric_only=True, axis=1)\n",
    "df5.head(10)"
   ]
  },
  {
   "cell_type": "code",
   "execution_count": 13,
   "metadata": {},
   "outputs": [
    {
     "name": "stdout",
     "output_type": "stream",
     "text": [
      "5개 단어간 유사도가 평균 0.98 이상인 단어는 39개입니다.\n"
     ]
    }
   ],
   "source": [
    "# 단어 평균 컬럼 기준으로 필터링\n",
    "df = df5.loc[df5['전체'] >= 0.98]\n",
    "print(\"5개 단어간 유사도가 평균 0.98 이상인 단어는 %.2d개입니다.\" % (len(df)))"
   ]
  },
  {
   "cell_type": "code",
   "execution_count": 14,
   "metadata": {},
   "outputs": [
    {
     "data": {
      "image/png": "[encoded data removed]",
      "text/plain": [
       "<Figure size 1152x1152 with 5 Axes>"
      ]
     },
     "metadata": {},
     "output_type": "display_data"
    }
   ],
   "source": [
    "# 플롯 설정\n",
    "sns.set(style='whitegrid', font='KoPubDotum', font_scale=1.3)\n",
    "g = sns.PairGrid(df.sort_values(\"전체\", ascending=False), x_vars=df.columns[1:6], y_vars=[\"단어\"])\n",
    "g.fig.set_size_inches(16,16)\n",
    "\n",
    "# 스트립플롯 함수를 이용한 닷 플롯\n",
    "g.map(sns.stripplot,\n",
    "      size=10,\n",
    "      orient=\"h\",\n",
    "      palette=\"ch:s=1,r=-.1,h=1_r\",\n",
    "      linewidth=1,\n",
    "      edgecolor=\"w\")\n",
    "g.set(xlim=(0.95, 1), xlabel=\"유사도\", ylabel=\"\")\n",
    "titles = [\"지리산\", \"오대산\", \"북한산\", \"주왕산\", \"가야산\"]\n",
    "\n",
    "for ax, title in zip(g.axes.flat, titles):\n",
    "    ax.set(title=title)                        # 축 제목 설정\n",
    "    ax.xaxis.grid(False); ax.yaxis.grid(True) # 수평 격자 설정\n",
    "\n",
    "sns.despine(left=True, bottom=True)\n",
    "plt.savefig('D:/GEODATA/IMG01.png', bbox_inches='tight')"
   ]
  },
  {
   "cell_type": "code",
   "execution_count": null,
   "metadata": {},
   "outputs": [],
   "source": []
  }
 ],
 "metadata": {
  "kernelspec": {
   "display_name": "Python 3",
   "language": "python",
   "name": "python3"
  },
  "language_info": {
   "codemirror_mode": {
    "name": "ipython",
    "version": 3
   },
   "file_extension": ".py",
   "mimetype": "text/x-python",
   "name": "python",
   "nbconvert_exporter": "python",
   "pygments_lexer": "ipython3",
   "version": "3.5.4"
  }
 },
 "nbformat": 4,
 "nbformat_minor": 2
}
